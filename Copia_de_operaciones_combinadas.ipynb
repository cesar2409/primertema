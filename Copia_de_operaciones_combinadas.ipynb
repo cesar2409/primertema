{
  "nbformat": 4,
  "nbformat_minor": 0,
  "metadata": {
    "colab": {
      "provenance": [],
      "authorship_tag": "ABX9TyNlk3gJYIo6rIPnaozje/f1",
      "include_colab_link": true
    },
    "kernelspec": {
      "name": "python3",
      "display_name": "Python 3"
    },
    "language_info": {
      "name": "python"
    }
  },
  "cells": [
    {
      "cell_type": "markdown",
      "metadata": {
        "id": "view-in-github",
        "colab_type": "text"
      },
      "source": [
        "<a href=\"https://colab.research.google.com/github/cesar2409/primertema/blob/main/Copia_de_operaciones_combinadas.ipynb\" target=\"_parent\"><img src=\"https://colab.research.google.com/assets/colab-badge.svg\" alt=\"Open In Colab\"/></a>"
      ]
    },
    {
      "cell_type": "code",
      "source": [
        "##Operaciones combinadas y logica operacional##\n",
        "\n",
        "a)Operaciones Aritméticas\n",
        "\n",
        "Los operadores son:\n",
        "\n",
        "+ - suma              Div: division entera\n",
        "- - resta             Mod: resto de division entera\n",
        "* - multiplicacion      ^: potencia (tambien se usa para raiz)\n",
        "/ - division\n",
        "\n",
        "a) 6 * 5^3 / 5 div 3\n",
        "b) 4 * 2 * (160 mod 3^3) div 5 * 13 - 8"
      ],
      "metadata": {
        "id": "qgBjvJQ-MB-b"
      },
      "execution_count": null,
      "outputs": []
    },
    {
      "cell_type": "code",
      "source": [
        "a) 14"
      ],
      "metadata": {
        "id": "Y6qyf5m_RDap"
      },
      "execution_count": null,
      "outputs": []
    }
  ]
}